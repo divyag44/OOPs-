{
 "cells": [
  {
   "cell_type": "markdown",
   "id": "b6d5a7d0-96ab-47b3-8b46-6d6dcf375e1e",
   "metadata": {},
   "source": [
    "### 1. Which function is used to open a file? What are the different modes of opening a file? Explain each mode of file opening."
   ]
  },
  {
   "cell_type": "code",
   "execution_count": 1,
   "id": "a630f41d-d91c-4f51-a072-a71465a369fa",
   "metadata": {},
   "outputs": [
    {
     "ename": "SyntaxError",
     "evalue": "invalid syntax (3320004680.py, line 1)",
     "output_type": "error",
     "traceback": [
      "\u001b[0;36m  Cell \u001b[0;32mIn[1], line 1\u001b[0;36m\u001b[0m\n\u001b[0;31m    Different modes of file opening:\u001b[0m\n\u001b[0m              ^\u001b[0m\n\u001b[0;31mSyntaxError\u001b[0m\u001b[0;31m:\u001b[0m invalid syntax\n"
     ]
    }
   ],
   "source": [
    "Different modes of file opening:\n",
    "    Character\tMeaning\n",
    "'r'\topen for reading (default)\n",
    "'w'\topen for writing, truncating the file first\n",
    "'x'\tcreate a new file and open it for writing\n",
    "'a'\topen for writing, appending to the end of the file if it exists\n",
    "'b'\tbinary mode\n",
    "'t'\ttext mode (default)\n",
    "'+'\topen a disk file for updating (reading and writing)\n"
   ]
  },
  {
   "cell_type": "markdown",
   "id": "cd736f0c-0911-4462-b822-51b6efb289db",
   "metadata": {},
   "source": [
    "## Q2. Why close() function is used? Why is it important to close a file?"
   ]
  },
  {
   "cell_type": "code",
   "execution_count": null,
   "id": "ff37cd64-fe8a-4710-b890-5d982e2846da",
   "metadata": {},
   "outputs": [],
   "source": [
    "close() funtion is used to close the opened file.\n",
    "\n",
    "Due to opened in whole program it can get corruput for some reason.\n",
    "Opened files occupies memory in RAM."
   ]
  },
  {
   "cell_type": "markdown",
   "id": "2bb19bf8-e4d3-42d2-aad3-38e0fe229a46",
   "metadata": {},
   "source": [
    "## Q3. Write a python program to create a text file. Write ‘I want to become a Data Scientist’ in that file. Then close the file. Open this file and read the content of the file."
   ]
  },
  {
   "cell_type": "code",
   "execution_count": null,
   "id": "71eb890a-4bef-4bb6-955a-eddd418e2d00",
   "metadata": {},
   "outputs": [],
   "source": [
    "\n",
    "q3.write('I want to beacome a Data Scientist.')\n",
    "\n",
    "q3.close()\n",
    "q3 = open('Q3.txt', 'r')\n",
    "\n",
    "print(q3.read())\n",
    "\n",
    "q3.close()"
   ]
  },
  {
   "cell_type": "markdown",
   "id": "69fc639b-c3ea-44bf-bafe-5df32057e31a",
   "metadata": {},
   "source": [
    "## Q4. Explain the following with python code: read(), readline() and readlines()."
   ]
  },
  {
   "cell_type": "code",
   "execution_count": 2,
   "id": "92219819-3b02-4b2e-9a62-efa7358d81ed",
   "metadata": {},
   "outputs": [
    {
     "name": "stdout",
     "output_type": "stream",
     "text": [
      "I am Divya.\n",
      "This second line.\n",
      "This is third line.\n",
      "This is fourth line.\n",
      "\n"
     ]
    }
   ],
   "source": [
    "with open('Q4.txt', 'w') as q4:\n",
    "    write = ['I am Divya.\\n', 'This second line.\\n', 'This is third line.\\n', 'This is fourth line.\\n']\n",
    "\n",
    "    q4.writelines(write)\n",
    "with open('Q4.txt', 'r') as q4:\n",
    "    print(q4.read())    # Read the whole file at a time."
   ]
  },
  {
   "cell_type": "markdown",
   "id": "a9a20ef8-2e5b-4a6a-bb5c-78863c9358c6",
   "metadata": {},
   "source": [
    "## Q5. Explain why with statement is used with open(). What is the advantage of using with statement and open() together?"
   ]
  },
  {
   "cell_type": "code",
   "execution_count": 3,
   "id": "7cb6edc3-655b-45aa-a91a-bf03a046d683",
   "metadata": {},
   "outputs": [
    {
     "ename": "SyntaxError",
     "evalue": "invalid syntax (3288147956.py, line 1)",
     "output_type": "error",
     "traceback": [
      "\u001b[0;36m  Cell \u001b[0;32mIn[3], line 1\u001b[0;36m\u001b[0m\n\u001b[0;31m    with keyword is used as context manager with open() function. It is use because with statement close the file when the program context ends.\u001b[0m\n\u001b[0m                                    ^\u001b[0m\n\u001b[0;31mSyntaxError\u001b[0m\u001b[0;31m:\u001b[0m invalid syntax\n"
     ]
    }
   ],
   "source": [
    "with keyword is used as context manager with open() function. It is use because with statement close the file when the program context ends.\n",
    "\n",
    "It reduce the file corruption chances. And make the programmer tension free to check wheher the file colses in the program or not."
   ]
  },
  {
   "cell_type": "markdown",
   "id": "037964a1-8e79-469f-81e5-d96050da01d9",
   "metadata": {},
   "source": [
    "## Q6. Explain the write() and writelines() functions. Give a suitable example."
   ]
  },
  {
   "cell_type": "code",
   "execution_count": 4,
   "id": "34db8246-27ec-4312-b06c-3f725e1fd6d3",
   "metadata": {},
   "outputs": [],
   "source": [
    "lines = ['Line1\\n', 'line2\\n', 'line3\\n', 'line4\\n']\n",
    "with open('Q5.txt', 'w') as q5:\n",
    "    for i in lines:\n",
    "        q5.write(i)    # Write in the files with individual strings.\n",
    "with open('Q5.txt', 'w') as q5:\n",
    "    q5.writelines(lines)    # Write in the files "
   ]
  },
  {
   "cell_type": "code",
   "execution_count": null,
   "id": "67c4e369-7bea-47fe-8d81-3cb7890b614b",
   "metadata": {},
   "outputs": [],
   "source": []
  }
 ],
 "metadata": {
  "kernelspec": {
   "display_name": "Python 3 (ipykernel)",
   "language": "python",
   "name": "python3"
  },
  "language_info": {
   "codemirror_mode": {
    "name": "ipython",
    "version": 3
   },
   "file_extension": ".py",
   "mimetype": "text/x-python",
   "name": "python",
   "nbconvert_exporter": "python",
   "pygments_lexer": "ipython3",
   "version": "3.10.8"
  }
 },
 "nbformat": 4,
 "nbformat_minor": 5
}
